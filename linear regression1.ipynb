{
 "cells": [
  {
   "cell_type": "code",
   "execution_count": 19,
   "metadata": {},
   "outputs": [
    {
     "data": {
      "text/plain": [
       "array([[ 0.63007982],\n",
       "       [-1.06163445],\n",
       "       [ 0.29634711],\n",
       "       [ 1.40277112],\n",
       "       [ 0.68968231],\n",
       "       [-0.53662936],\n",
       "       [-1.11947526],\n",
       "       [ 1.06755846],\n",
       "       [ 0.1178195 ],\n",
       "       [ 1.54907163],\n",
       "       [ 1.29561858],\n",
       "       [-0.03107509],\n",
       "       [ 0.56119218],\n",
       "       [ 0.42105072],\n",
       "       [-0.4864951 ],\n",
       "       [ 0.08897764],\n",
       "       [-0.18577532],\n",
       "       [-0.17809318],\n",
       "       [-0.23725045],\n",
       "       [-0.88623967],\n",
       "       [-0.47573349],\n",
       "       [ 0.21734821],\n",
       "       [-2.65331856],\n",
       "       [ 0.72575222],\n",
       "       [-0.38053642],\n",
       "       [-0.48456513],\n",
       "       [ 1.57463407],\n",
       "       [-1.30554851],\n",
       "       [-0.17241977],\n",
       "       [ 0.73683739],\n",
       "       [-1.23234621],\n",
       "       [ 0.31540267],\n",
       "       [ 1.74945474],\n",
       "       [ 0.09183837],\n",
       "       [-0.30957664],\n",
       "       [-1.18575527],\n",
       "       [-0.68344663],\n",
       "       [-0.31963136],\n",
       "       [-0.00828463],\n",
       "       [-0.64257539],\n",
       "       [ 1.0956297 ],\n",
       "       [ 0.06367166],\n",
       "       [-0.57395456],\n",
       "       [ 0.07349324],\n",
       "       [ 0.73227135],\n",
       "       [-1.06560298],\n",
       "       [-1.68411089],\n",
       "       [-1.54686257],\n",
       "       [-0.20437532],\n",
       "       [-0.286073  ]])"
      ]
     },
     "metadata": {},
     "output_type": "display_data"
    },
    {
     "data": {
      "text/plain": [
       "array([  43.6543408 ,  -72.68235021,   21.19644643,  107.58765071,\n",
       "         69.62063217,  -32.57566222, -101.61213107,   87.44514699,\n",
       "         17.69898683,  131.00190463,   97.97802247,    2.70819092,\n",
       "         52.42715419,   27.74476129,  -31.82947365,    1.58209228,\n",
       "         -9.72570848,    4.57391214,  -33.24586607,  -74.34292886,\n",
       "        -22.6419015 ,   15.84607909, -202.79645668,   49.05026172,\n",
       "        -34.9916168 ,  -33.95608308,  121.78273292, -123.72382672,\n",
       "         -1.90918067,   64.06753923,  -91.73785524,    9.55252237,\n",
       "        148.12427806,   22.21183346,  -16.35144507, -113.95075954,\n",
       "        -47.70966758,  -22.69082132,   -1.79022499,  -58.17761844,\n",
       "         91.76970817,  -12.7798199 ,  -38.1435921 ,   17.48650737,\n",
       "         40.52468632, -107.65815151, -134.20798669, -127.22516755,\n",
       "        -34.31360406,  -10.90920383])"
      ]
     },
     "metadata": {},
     "output_type": "display_data"
    }
   ],
   "source": [
    "from sklearn.datasets import make_regression\n",
    "import numpy as np\n",
    "\n",
    "X, y = make_regression(n_samples=50, n_features=1, n_informative=1,\n",
    "                       noise=10, random_state=11)\n",
    "\n",
    "display(X, y)"
   ]
  },
  {
   "cell_type": "code",
   "execution_count": 12,
   "metadata": {},
   "outputs": [
    {
     "data": {
      "image/png": "[encoded data removed]",
      "text/plain": [
       "<Figure size 1000x600 with 1 Axes>"
      ]
     },
     "metadata": {},
     "output_type": "display_data"
    }
   ],
   "source": [
    "import matplotlib.pyplot as plt\n",
    "\n",
    "\n",
    "fig = plt.figure(figsize=(10, 6))\n",
    "plt.scatter(X, y)\n",
    "\n",
    "plt.xlabel('feature')\n",
    "plt.ylabel('target')\n",
    "plt.show()"
   ]
  },
  {
   "cell_type": "markdown",
   "metadata": {},
   "source": [
    "Одномерная линейная регрессия (scikit-learn)"
   ]
  },
  {
   "cell_type": "code",
   "execution_count": 13,
   "metadata": {},
   "outputs": [
    {
     "data": {
      "text/html": [
       "<style>#sk-container-id-1 {color: black;}#sk-container-id-1 pre{padding: 0;}#sk-container-id-1 div.sk-toggleable {background-color: white;}#sk-container-id-1 label.sk-toggleable__label {cursor: pointer;display: block;width: 100%;margin-bottom: 0;padding: 0.3em;box-sizing: border-box;text-align: center;}#sk-container-id-1 label.sk-toggleable__label-arrow:before {content: \"▸\";float: left;margin-right: 0.25em;color: #696969;}#sk-container-id-1 label.sk-toggleable__label-arrow:hover:before {color: black;}#sk-container-id-1 div.sk-estimator:hover label.sk-toggleable__label-arrow:before {color: black;}#sk-container-id-1 div.sk-toggleable__content {max-height: 0;max-width: 0;overflow: hidden;text-align: left;background-color: #f0f8ff;}#sk-container-id-1 div.sk-toggleable__content pre {margin: 0.2em;color: black;border-radius: 0.25em;background-color: #f0f8ff;}#sk-container-id-1 input.sk-toggleable__control:checked~div.sk-toggleable__content {max-height: 200px;max-width: 100%;overflow: auto;}#sk-container-id-1 input.sk-toggleable__control:checked~label.sk-toggleable__label-arrow:before {content: \"▾\";}#sk-container-id-1 div.sk-estimator input.sk-toggleable__control:checked~label.sk-toggleable__label {background-color: #d4ebff;}#sk-container-id-1 div.sk-label input.sk-toggleable__control:checked~label.sk-toggleable__label {background-color: #d4ebff;}#sk-container-id-1 input.sk-hidden--visually {border: 0;clip: rect(1px 1px 1px 1px);clip: rect(1px, 1px, 1px, 1px);height: 1px;margin: -1px;overflow: hidden;padding: 0;position: absolute;width: 1px;}#sk-container-id-1 div.sk-estimator {font-family: monospace;background-color: #f0f8ff;border: 1px dotted black;border-radius: 0.25em;box-sizing: border-box;margin-bottom: 0.5em;}#sk-container-id-1 div.sk-estimator:hover {background-color: #d4ebff;}#sk-container-id-1 div.sk-parallel-item::after {content: \"\";width: 100%;border-bottom: 1px solid gray;flex-grow: 1;}#sk-container-id-1 div.sk-label:hover label.sk-toggleable__label {background-color: #d4ebff;}#sk-container-id-1 div.sk-serial::before {content: \"\";position: absolute;border-left: 1px solid gray;box-sizing: border-box;top: 0;bottom: 0;left: 50%;z-index: 0;}#sk-container-id-1 div.sk-serial {display: flex;flex-direction: column;align-items: center;background-color: white;padding-right: 0.2em;padding-left: 0.2em;position: relative;}#sk-container-id-1 div.sk-item {position: relative;z-index: 1;}#sk-container-id-1 div.sk-parallel {display: flex;align-items: stretch;justify-content: center;background-color: white;position: relative;}#sk-container-id-1 div.sk-item::before, #sk-container-id-1 div.sk-parallel-item::before {content: \"\";position: absolute;border-left: 1px solid gray;box-sizing: border-box;top: 0;bottom: 0;left: 50%;z-index: -1;}#sk-container-id-1 div.sk-parallel-item {display: flex;flex-direction: column;z-index: 1;position: relative;background-color: white;}#sk-container-id-1 div.sk-parallel-item:first-child::after {align-self: flex-end;width: 50%;}#sk-container-id-1 div.sk-parallel-item:last-child::after {align-self: flex-start;width: 50%;}#sk-container-id-1 div.sk-parallel-item:only-child::after {width: 0;}#sk-container-id-1 div.sk-dashed-wrapped {border: 1px dashed gray;margin: 0 0.4em 0.5em 0.4em;box-sizing: border-box;padding-bottom: 0.4em;background-color: white;}#sk-container-id-1 div.sk-label label {font-family: monospace;font-weight: bold;display: inline-block;line-height: 1.2em;}#sk-container-id-1 div.sk-label-container {text-align: center;}#sk-container-id-1 div.sk-container {/* jupyter's `normalize.less` sets `[hidden] { display: none; }` but bootstrap.min.css set `[hidden] { display: none !important; }` so we also need the `!important` here to be able to override the default hidden behavior on the sphinx rendered scikit-learn.org. See: https://github.com/scikit-learn/scikit-learn/issues/21755 */display: inline-block !important;position: relative;}#sk-container-id-1 div.sk-text-repr-fallback {display: none;}</style><div id=\"sk-container-id-1\" class=\"sk-top-container\"><div class=\"sk-text-repr-fallback\"><pre>LinearRegression()</pre><b>In a Jupyter environment, please rerun this cell to show the HTML representation or trust the notebook. <br />On GitHub, the HTML representation is unable to render, please try loading this page with nbviewer.org.</b></div><div class=\"sk-container\" hidden><div class=\"sk-item\"><div class=\"sk-estimator sk-toggleable\"><input class=\"sk-toggleable__control sk-hidden--visually\" id=\"sk-estimator-id-1\" type=\"checkbox\" checked><label for=\"sk-estimator-id-1\" class=\"sk-toggleable__label sk-toggleable__label-arrow\">LinearRegression</label><div class=\"sk-toggleable__content\"><pre>LinearRegression()</pre></div></div></div></div></div>"
      ],
      "text/plain": [
       "LinearRegression()"
      ]
     },
     "execution_count": 13,
     "metadata": {},
     "output_type": "execute_result"
    }
   ],
   "source": [
    "from sklearn.linear_model import LinearRegression\n",
    "\n",
    "model = LinearRegression()\n",
    "model"
   ]
  },
  {
   "cell_type": "code",
   "execution_count": 16,
   "metadata": {},
   "outputs": [
    {
     "data": {
      "text/plain": [
       "(array([80.41862354]), 0.18171887542100507)"
      ]
     },
     "execution_count": 16,
     "metadata": {},
     "output_type": "execute_result"
    }
   ],
   "source": [
    "model.fit(X, y)\n",
    "model.coef_, model.intercept_"
   ]
  },
  {
   "cell_type": "code",
   "execution_count": 17,
   "metadata": {},
   "outputs": [],
   "source": [
    "model_a = model.coef_[0]\n",
    "model_b = model.intercept_"
   ]
  },
  {
   "cell_type": "code",
   "execution_count": 23,
   "metadata": {},
   "outputs": [
    {
     "data": {
      "image/png": "[encoded data removed]",
      "text/plain": [
       "<Figure size 1000x600 with 1 Axes>"
      ]
     },
     "metadata": {},
     "output_type": "display_data"
    }
   ],
   "source": [
    "fig = plt.figure(figsize=(10, 6))\n",
    "\n",
    "x = np.arange(-3, 3)\n",
    "model_y_sk = model_a * x + model_b\n",
    "\n",
    "plt.plot(x, model_y_sk, linewidth=2, c='r', label=f'linear_model = {model_a:.2f}x + {model_b:.2f}')\n",
    "plt.scatter(X, y) \n",
    "plt.plot([0, 1], [model_b, model_b], 'y', linewidth=3)\n",
    "plt.plot([1, 1], [model_b, model_b+model_a], 'y', linewidth=3)\n",
    "plt.grid()\n",
    "plt.xlabel('feature')\n",
    "plt.ylabel('target')\n",
    "plt.legend(prop={'size': 16})\n",
    "plt.show()"
   ]
  },
  {
   "cell_type": "code",
   "execution_count": 24,
   "metadata": {},
   "outputs": [
    {
     "data": {
      "text/plain": [
       "array([50.85187092])"
      ]
     },
     "execution_count": 24,
     "metadata": {},
     "output_type": "execute_result"
    }
   ],
   "source": [
    "model.predict(X[:1])"
   ]
  },
  {
   "cell_type": "markdown",
   "metadata": {},
   "source": [
    "Одномерная линейная регрессия (вручную)"
   ]
  },
  {
   "cell_type": "code",
   "execution_count": 25,
   "metadata": {},
   "outputs": [
    {
     "data": {
      "text/plain": [
       "array([[ 0.63007982],\n",
       "       [-1.06163445],\n",
       "       [ 0.29634711],\n",
       "       [ 1.40277112],\n",
       "       [ 0.68968231],\n",
       "       [-0.53662936],\n",
       "       [-1.11947526],\n",
       "       [ 1.06755846],\n",
       "       [ 0.1178195 ],\n",
       "       [ 1.54907163],\n",
       "       [ 1.29561858],\n",
       "       [-0.03107509],\n",
       "       [ 0.56119218],\n",
       "       [ 0.42105072],\n",
       "       [-0.4864951 ],\n",
       "       [ 0.08897764],\n",
       "       [-0.18577532],\n",
       "       [-0.17809318],\n",
       "       [-0.23725045],\n",
       "       [-0.88623967],\n",
       "       [-0.47573349],\n",
       "       [ 0.21734821],\n",
       "       [-2.65331856],\n",
       "       [ 0.72575222],\n",
       "       [-0.38053642],\n",
       "       [-0.48456513],\n",
       "       [ 1.57463407],\n",
       "       [-1.30554851],\n",
       "       [-0.17241977],\n",
       "       [ 0.73683739],\n",
       "       [-1.23234621],\n",
       "       [ 0.31540267],\n",
       "       [ 1.74945474],\n",
       "       [ 0.09183837],\n",
       "       [-0.30957664],\n",
       "       [-1.18575527],\n",
       "       [-0.68344663],\n",
       "       [-0.31963136],\n",
       "       [-0.00828463],\n",
       "       [-0.64257539],\n",
       "       [ 1.0956297 ],\n",
       "       [ 0.06367166],\n",
       "       [-0.57395456],\n",
       "       [ 0.07349324],\n",
       "       [ 0.73227135],\n",
       "       [-1.06560298],\n",
       "       [-1.68411089],\n",
       "       [-1.54686257],\n",
       "       [-0.20437532],\n",
       "       [-0.286073  ]])"
      ]
     },
     "metadata": {},
     "output_type": "display_data"
    },
    {
     "data": {
      "text/plain": [
       "array([  43.6543408 ,  -72.68235021,   21.19644643,  107.58765071,\n",
       "         69.62063217,  -32.57566222, -101.61213107,   87.44514699,\n",
       "         17.69898683,  131.00190463,   97.97802247,    2.70819092,\n",
       "         52.42715419,   27.74476129,  -31.82947365,    1.58209228,\n",
       "         -9.72570848,    4.57391214,  -33.24586607,  -74.34292886,\n",
       "        -22.6419015 ,   15.84607909, -202.79645668,   49.05026172,\n",
       "        -34.9916168 ,  -33.95608308,  121.78273292, -123.72382672,\n",
       "         -1.90918067,   64.06753923,  -91.73785524,    9.55252237,\n",
       "        148.12427806,   22.21183346,  -16.35144507, -113.95075954,\n",
       "        -47.70966758,  -22.69082132,   -1.79022499,  -58.17761844,\n",
       "         91.76970817,  -12.7798199 ,  -38.1435921 ,   17.48650737,\n",
       "         40.52468632, -107.65815151, -134.20798669, -127.22516755,\n",
       "        -34.31360406,  -10.90920383])"
      ]
     },
     "metadata": {},
     "output_type": "display_data"
    }
   ],
   "source": [
    "X, y, coeffs = make_regression(n_samples=50, n_features=1, n_informative=1,\n",
    "                               noise=10, coef=True, random_state=11)\n",
    "\n",
    "display(X, y)"
   ]
  },
  {
   "cell_type": "code",
   "execution_count": 26,
   "metadata": {},
   "outputs": [
    {
     "data": {
      "text/plain": [
       "array(80.65667909)"
      ]
     },
     "execution_count": 26,
     "metadata": {},
     "output_type": "execute_result"
    }
   ],
   "source": [
    "coeffs"
   ]
  },
  {
   "cell_type": "code",
   "execution_count": 27,
   "metadata": {},
   "outputs": [
    {
     "data": {
      "image/png": "[encoded data removed]",
      "text/plain": [
       "<Figure size 1000x600 with 1 Axes>"
      ]
     },
     "metadata": {},
     "output_type": "display_data"
    }
   ],
   "source": [
    "import matplotlib.pyplot as plt\n",
    "\n",
    "\n",
    "fig = plt.figure(figsize=(10, 6))\n",
    "plt.scatter(X, y)\n",
    "\n",
    "plt.xlabel('feature')\n",
    "plt.ylabel('target')\n",
    "plt.show()"
   ]
  },
  {
   "cell_type": "code",
   "execution_count": 28,
   "metadata": {},
   "outputs": [],
   "source": [
    "# функция, определяющая среднеквадратичную ошибку\n",
    "def mserror(X, w1, w0, y):\n",
    "    y_pred = w1 * X[:, 0] + w0\n",
    "    return np.sum((y - y_pred) ** 2) / len(y_pred)\n",
    "\n",
    "# функция градиента\n",
    "def gr_mserror(X, w1, w0, y):\n",
    "    y_pred = w1 * X[:, 0] + w0\n",
    "    return np.array([2/len(X)*np.sum((y - y_pred)) * (-1),\n",
    "                     2/len(X)*np.sum((y - y_pred) * (-X[:, 0]))])"
   ]
  },
  {
   "cell_type": "code",
   "execution_count": 29,
   "metadata": {},
   "outputs": [
    {
     "name": "stdout",
     "output_type": "stream",
     "text": [
      "Итерация: 0\n",
      "Текущая точка (0, 0)| Следующая точка (13.245106098282543, -1.3921748530551812)\n",
      "MSE 5436.432058517568\n",
      "--------------------------------------------------------\n",
      "Итерация: 1\n",
      "Текущая точка (13.245106098282543, -1.3921748530551812)| Следующая точка (24.283455474773014, -2.270634896573517)\n",
      "MSE 3812.4417335187304\n",
      "--------------------------------------------------------\n",
      "Итерация: 2\n",
      "Текущая точка (24.283455474773014, -2.270634896573517)| Следующая точка (33.487719285860635, -2.777322881591963)\n",
      "MSE 2689.1325642433894\n",
      "--------------------------------------------------------\n",
      "Итерация: 3\n",
      "Текущая точка (33.487719285860635, -2.777322881591963)| Следующая точка (41.166652649401456, -3.0191730536904307)\n",
      "MSE 1910.2491839412482\n",
      "--------------------------------------------------------\n",
      "Итерация: 4\n",
      "Текущая точка (41.166652649401456, -3.0191730536904307)| Следующая точка (47.57624618267611, -3.0762482285482444)\n",
      "MSE 1368.9634120527255\n",
      "--------------------------------------------------------\n",
      "Итерация: 5\n",
      "Текущая точка (47.57624618267611, -3.0762482285482444)| Следующая точка (52.92889586922186, -3.008051361710758)\n",
      "MSE 992.010595522475\n",
      "--------------------------------------------------------\n",
      "Итерация: 6\n",
      "Текущая точка (52.92889586922186, -3.008051361710758)| Следующая точка (57.40095014665679, -2.8584119151984995)\n",
      "MSE 728.9953237861758\n",
      "--------------------------------------------------------\n",
      "Итерация: 7\n",
      "Текущая точка (57.40095014665679, -2.8584119151984995)| Следующая точка (61.138926872179695, -2.659260887873855)\n",
      "MSE 545.1558383956526\n",
      "--------------------------------------------------------\n",
      "Итерация: 8\n",
      "Текущая точка (61.138926872179695, -2.659260887873855)| Следующая точка (64.2646390341644, -2.433540404481531)\n",
      "MSE 416.45122384278307\n",
      "--------------------------------------------------------\n",
      "Итерация: 9\n",
      "Текущая точка (64.2646390341644, -2.433540404481531)| Следующая точка (66.87942435861689, -2.19744033614948)\n",
      "MSE 326.2142980059075\n",
      "--------------------------------------------------------\n",
      "Итерация: 10\n",
      "Текущая точка (66.87942435861689, -2.19744033614948)| Следующая точка (69.06763839104693, -1.9621124640486494)\n",
      "MSE 262.86371600250254\n",
      "--------------------------------------------------------\n",
      "Итерация: 11\n",
      "Текущая точка (69.06763839104693, -1.9621124640486494)| Следующая точка (70.8995416710495, -1.7349797608563151)\n",
      "MSE 218.33518111153128\n",
      "--------------------------------------------------------\n",
      "Итерация: 12\n",
      "Текущая точка (70.8995416710495, -1.7349797608563151)| Следующая точка (72.4336880101809, -1.520732529514591)\n",
      "MSE 187.00253533348857\n",
      "--------------------------------------------------------\n",
      "Итерация: 13\n",
      "Текущая точка (72.4336880101809, -1.520732529514591)| Следующая точка (73.71890162494748, -1.322082889991646)\n",
      "MSE 164.93367151659535\n",
      "--------------------------------------------------------\n",
      "Итерация: 14\n",
      "Текущая точка (73.71890162494748, -1.322082889991646)| Следующая точка (74.79591515037744, -1.1403332478296038)\n",
      "MSE 149.37600820692927\n",
      "--------------------------------------------------------\n",
      "Итерация: 15\n",
      "Текущая точка (74.79591515037744, -1.1403332478296038)| Следующая точка (75.69872770576566, -0.9758019720797207)\n",
      "MSE 138.39982870713823\n",
      "--------------------------------------------------------\n",
      "Итерация: 16\n",
      "Текущая точка (75.69872770576566, -0.9758019720797207)| Следующая точка (76.45573166825358, -0.8281398136089831)\n",
      "MSE 130.65048482717629\n",
      "--------------------------------------------------------\n",
      "Итерация: 17\n",
      "Текущая точка (76.45573166825358, -0.8281398136089831)| Следующая точка (77.09064819864122, -0.6965630242691534)\n",
      "MSE 125.17587305548757\n",
      "--------------------------------------------------------\n",
      "Итерация: 18\n",
      "Текущая точка (77.09064819864122, -0.6965630242691534)| Следующая точка (77.62330450567968, -0.5800232339912165)\n",
      "MSE 121.30608466627997\n",
      "--------------------------------------------------------\n",
      "Итерация: 19\n",
      "Текущая точка (77.62330450567968, -0.5800232339912165)| Следующая точка (78.07028004458385, -0.47732954550339834)\n",
      "MSE 118.5693021415083\n",
      "--------------------------------------------------------\n",
      "Итерация: 20\n",
      "Текущая точка (78.07028004458385, -0.47732954550339834)| Следующая точка (78.44544409060278, -0.3872347313389438)\n",
      "MSE 116.63292990920401\n",
      "--------------------------------------------------------\n",
      "Итерация: 21\n",
      "Текущая точка (78.44544409060278, -0.3872347313389438)| Следующая точка (78.76040322042036, -0.3084946422381159)\n",
      "MSE 115.26232714854191\n",
      "--------------------------------------------------------\n",
      "Итерация: 22\n",
      "Текущая точка (78.76040322042036, -0.3084946422381159)| Следующая точка (79.024874019221, -0.23990778502053262)\n",
      "MSE 114.29184073360233\n",
      "--------------------------------------------------------\n",
      "Итерация: 23\n",
      "Текущая точка (79.024874019221, -0.23990778502053262)| Следующая точка (79.24699368416267, -0.18034036428991163)\n",
      "MSE 113.60444739461153\n",
      "--------------------------------------------------------\n",
      "Итерация: 24\n",
      "Текущая точка (79.24699368416267, -0.18034036428991163)| Следующая точка (79.43357901354796, -0.12874079838376576)\n",
      "MSE 113.11743065929035\n",
      "--------------------------------------------------------\n",
      "Итерация: 25\n",
      "Текущая точка (79.43357901354796, -0.12874079838376576)| Следующая точка (79.590342471717, -0.08414673157126629)\n",
      "MSE 112.77229367773498\n",
      "--------------------------------------------------------\n",
      "Итерация: 26\n",
      "Текущая точка (79.590342471717, -0.08414673157126629)| Следующая точка (79.72207253439184, -0.045686805736328245)\n",
      "MSE 112.5276488913149\n",
      "--------------------------------------------------------\n",
      "Итерация: 27\n",
      "Текущая точка (79.72207253439184, -0.045686805736328245)| Следующая точка (79.83278429207604, -0.012578874154160535)\n",
      "MSE 112.35420203791824\n",
      "--------------------------------------------------------\n",
      "Итерация: 28\n",
      "Текущая точка (79.83278429207604, -0.012578874154160535)| Следующая точка (79.92584527446147, 0.01587410273549933)\n",
      "MSE 112.23121107508297\n",
      "--------------------------------------------------------\n",
      "Итерация: 29\n",
      "Текущая точка (79.92584527446147, 0.01587410273549933)| Следующая точка (80.00408061916187, 0.0402895757954151)\n",
      "MSE 112.14398472877181\n",
      "--------------------------------------------------------\n",
      "Итерация: 30\n",
      "Текущая точка (80.00408061916187, 0.0402895757954151)| Следующая точка (80.06986101275434, 0.061211690132424876)\n",
      "MSE 112.08211443091523\n",
      "--------------------------------------------------------\n",
      "Итерация: 31\n",
      "Текущая точка (80.06986101275434, 0.061211690132424876)| Следующая точка (80.12517625583499, 0.07911787359402343)\n",
      "MSE 112.03822398727151\n",
      "--------------------------------------------------------\n",
      "Итерация: 32\n",
      "Текущая точка (80.12517625583499, 0.07911787359402343)| Следующая точка (80.1716968258466, 0.09442541434069902)\n",
      "MSE 112.0070849682984\n",
      "--------------------------------------------------------\n",
      "Итерация: 33\n",
      "Текущая точка (80.1716968258466, 0.09442541434069902)| Следующая точка (80.21082541475698, 0.10749781647693545)\n",
      "MSE 111.98499059416774\n",
      "--------------------------------------------------------\n",
      "Итерация: 34\n",
      "Текущая точка (80.21082541475698, 0.10749781647693545)| Следующая точка (80.24374008920961, 0.11865080004710715)\n",
      "MSE 111.96931241806891\n",
      "--------------------------------------------------------\n",
      "Итерация: 35\n",
      "Текущая точка (80.24374008920961, 0.11865080004710715)| Следующая точка (80.2714304469608, 0.1281578677088226)\n",
      "MSE 111.95818633748331\n",
      "--------------------------------------------------------\n",
      "Итерация: 36\n",
      "Текущая точка (80.2714304469608, 0.1281578677088226)| Следующая точка (80.29472791571294, 0.13625540033755565)\n",
      "MSE 111.95029014106852\n",
      "--------------------------------------------------------\n",
      "Итерация: 37\n",
      "Текущая точка (80.29472791571294, 0.13625540033755565)| Следующая точка (80.3143311509696, 0.14314727172458203)\n",
      "MSE 111.94468586607258\n",
      "--------------------------------------------------------\n",
      "Итерация: 38\n",
      "Текущая точка (80.3143311509696, 0.14314727172458203)| Следующая точка (80.33082733176776, 0.14900899149088742)\n",
      "MSE 111.9407080587951\n",
      "--------------------------------------------------------\n",
      "Итерация: 39\n",
      "Текущая точка (80.33082733176776, 0.14900899149088742)| Следующая точка (80.34471002169886, 0.15399139770567302)\n",
      "MSE 111.93788455593705\n",
      "--------------------------------------------------------\n",
      "Итерация: 40\n",
      "Текущая точка (80.34471002169886, 0.15399139770567302)| Следующая точка (80.35639415306127, 0.15822392825594017)\n",
      "MSE 111.93588031188328\n",
      "--------------------------------------------------------\n",
      "Итерация: 41\n",
      "Текущая точка (80.35639415306127, 0.15822392825594017)| Следующая точка (80.3662286006031, 0.16181750411360082)\n",
      "MSE 111.93445756119772\n",
      "--------------------------------------------------------\n",
      "Итерация: 42\n",
      "Текущая точка (80.3662286006031, 0.16181750411360082)| Следующая точка (80.37450673505678, 0.16486705930322332)\n",
      "MSE 111.93344756203358\n",
      "--------------------------------------------------------\n",
      "Итерация: 43\n",
      "Текущая точка (80.37450673505678, 0.16486705930322332)| Следующая точка (80.3814752830035, 0.16745375234425586)\n",
      "MSE 111.93273055134894\n",
      "--------------------------------------------------------\n",
      "Итерация: 44\n",
      "Текущая точка (80.3814752830035, 0.16745375234425586)| Следующая точка (80.38734176642754, 0.16964689278727177)\n",
      "MSE 111.93222152388138\n",
      "--------------------------------------------------------\n",
      "Итерация: 45\n",
      "Текущая точка (80.38734176642754, 0.16964689278727177)| Следующая точка (80.39228075088505, 0.1715056145957146)\n",
      "MSE 111.93186014187545\n",
      "--------------------------------------------------------\n",
      "Итерация: 46\n",
      "Текущая точка (80.39228075088505, 0.1715056145957146)| Следующая точка (80.39643909406131, 0.17308032584082383)\n",
      "MSE 111.93160357509205\n",
      "--------------------------------------------------------\n",
      "Итерация: 47\n",
      "Текущая точка (80.39643909406131, 0.17308032584082383)| Следующая точка (80.39994035542131, 0.17441396169048307)\n",
      "MSE 111.9314214197364\n",
      "--------------------------------------------------------\n",
      "Итерация: 48\n",
      "Текущая точка (80.39994035542131, 0.17441396169048307)| Следующая точка (80.40288850166267, 0.17554306513125753)\n",
      "MSE 111.93129209244117\n",
      "--------------------------------------------------------\n",
      "Итерация: 49\n",
      "Текущая точка (80.40288850166267, 0.17554306513125753)| Следующая точка (80.40537102092192, 0.17649871736794565)\n",
      "MSE 111.93120027093673\n",
      "--------------------------------------------------------\n",
      "Итерация: 50\n",
      "Текущая точка (80.40537102092192, 0.17649871736794565)| Следующая точка (80.40746154046687, 0.1773073374625193)\n",
      "MSE 111.93113507749824\n",
      "--------------------------------------------------------\n",
      "Итерация: 51\n",
      "Текущая точка (80.40746154046687, 0.1773073374625193)| Следующая точка (80.40922202734937, 0.17799136854473532)\n",
      "MSE 111.93108878953852\n",
      "--------------------------------------------------------\n",
      "Итерация: 52\n",
      "Текущая точка (80.40922202734937, 0.17799136854473532)| Следующая точка (80.41070463870736, 0.17856986587197987)\n",
      "MSE 111.9310559243356\n",
      "--------------------------------------------------------\n",
      "Итерация: 53\n",
      "Текущая точка (80.41070463870736, 0.17856986587197987)| Следующая точка (80.41195327769022, 0.1790590001450439)\n",
      "MSE 111.93103258931154\n",
      "--------------------------------------------------------\n",
      "Итерация: 54\n",
      "Текущая точка (80.41195327769022, 0.1790590001450439)| Следующая точка (80.41300490199842, 0.1794724877994691)\n",
      "MSE 111.93101602080289\n",
      "--------------------------------------------------------\n",
      "Итерация: 55\n",
      "Текущая точка (80.41300490199842, 0.1794724877994691)| Следующая точка (80.41389062449502, 0.1798219584829086)\n",
      "MSE 111.93100425662863\n",
      "--------------------------------------------------------\n",
      "Итерация: 56\n",
      "Текущая точка (80.41389062449502, 0.1798219584829086)| Следующая точка (80.41463663902786, 0.18011726858776034)\n",
      "MSE 111.93099590363774\n",
      "--------------------------------------------------------\n",
      "Итерация: 57\n",
      "Текущая точка (80.41463663902786, 0.18011726858776034)| Следующая точка (80.41526499929918, 0.18036676852314196)\n",
      "MSE 111.93098997268032\n",
      "--------------------------------------------------------\n",
      "Итерация: 58\n",
      "Текущая точка (80.41526499929918, 0.18036676852314196)| Следующая точка (80.41579427417048, 0.18057753036794924)\n",
      "MSE 111.93098576144426\n",
      "--------------------------------------------------------\n",
      "Итерация: 59\n",
      "Текущая точка (80.41579427417048, 0.18057753036794924)| Следующая точка (80.4162400990548, 0.18075554163382535)\n",
      "MSE 111.93098277127257\n",
      "--------------------------------------------------------\n",
      "Итерация: 60\n",
      "Текущая точка (80.4162400990548, 0.18075554163382535)| Следующая точка (80.41661563991356, 0.18090587007021305)\n",
      "MSE 111.9309806481053\n",
      "--------------------------------------------------------\n",
      "Итерация: 61\n",
      "Текущая точка (80.41661563991356, 0.18090587007021305)| Следующая точка (80.41693198374094, 0.18103280375061692)\n",
      "MSE 111.93097914054856\n",
      "--------------------------------------------------------\n",
      "Итерация: 62\n",
      "Текущая точка (80.41693198374094, 0.18103280375061692)| Следующая точка (80.4171984672076, 0.18113997007799426)\n",
      "MSE 111.93097807010358\n",
      "--------------------------------------------------------\n",
      "Итерация: 63\n",
      "Текущая точка (80.4171984672076, 0.18113997007799426)| Следующая точка (80.41742295327681, 0.18123043682693823)\n",
      "MSE 111.93097731002919\n",
      "--------------------------------------------------------\n",
      "Итерация: 64\n",
      "Текущая точка (80.41742295327681, 0.18123043682693823)| Следующая точка (80.41761206404517, 0.1813067978911081)\n",
      "MSE 111.93097677033369\n",
      "--------------------------------------------------------\n",
      "Итерация: 65\n",
      "Текущая точка (80.41761206404517, 0.1813067978911081)| Следующая точка (80.41777137674777, 0.18137124601724236)\n",
      "MSE 111.93097638711887\n",
      "--------------------------------------------------------\n",
      "Итерация: 66\n",
      "Текущая точка (80.41777137674777, 0.18137124601724236)| Следующая точка (80.41790558876512, 0.1814256344741146)\n",
      "MSE 111.93097611501378\n",
      "--------------------------------------------------------\n",
      "Итерация: 67\n",
      "Текущая точка (80.41790558876512, 0.1814256344741146)| Следующая точка (80.41801865654197, 0.18147152931880287)\n",
      "MSE 111.9309759218029\n",
      "--------------------------------------------------------\n",
      "Итерация: 68\n",
      "Текущая точка (80.41801865654197, 0.18147152931880287)| Следующая точка (80.41811391254866, 0.18151025367739462)\n",
      "MSE 111.93097578461146\n",
      "--------------------------------------------------------\n"
     ]
    }
   ],
   "source": [
    "# установка минимального значения, на которое должны изменяться веса\n",
    "eps = 0.0001\n",
    "\n",
    "# первоначальное точка\n",
    "w1 = 0\n",
    "w0 = 0\n",
    "\n",
    "# размер шага (learning rate)\n",
    "learning_rate = 0.1\n",
    "\n",
    "next_w1 = w1\n",
    "next_w0 = w0\n",
    "# количество итерация \n",
    "n = 100\n",
    "for i in range(n):\n",
    "    cur_w1 = next_w1\n",
    "    cur_w0 = next_w0\n",
    "\n",
    "    # движение в негативную сторону вычисляемого градиента\n",
    "    next_w0 = cur_w0 - learning_rate * gr_mserror(X, cur_w1, cur_w0, y)[0]\n",
    "    next_w1 = cur_w1 - learning_rate * gr_mserror(X, cur_w1, cur_w0, y)[1]\n",
    "\n",
    "    # остановка когда достигнута необходимая степень точности\n",
    "    print(f\"Итерация: {i}\")\n",
    "    print(f\"Текущая точка {cur_w1, cur_w0}| Следующая точка {next_w1, next_w0}\")\n",
    "    print(f\"MSE {mserror(X, cur_w1, cur_w0, y)}\")\n",
    "    print(\"--------------------------------------------------------\")\n",
    "    \n",
    "    if (abs(cur_w1 - next_w1) <= eps) and (abs(cur_w0 - next_w0) <= eps):\n",
    "        break"
   ]
  },
  {
   "cell_type": "code",
   "execution_count": 30,
   "metadata": {},
   "outputs": [
    {
     "name": "stdout",
     "output_type": "stream",
     "text": [
      "Коэффициенты наклона True 80.65667909277211, trained 80.41811391254866\n",
      "Коэффициенты сдвига True 0, trained 0.18151025367739462\n"
     ]
    }
   ],
   "source": [
    "print('Коэффициенты наклона', end=' ')\n",
    "print(f'True {coeffs}, trained {next_w1}')\n",
    "\n",
    "print('Коэффициенты сдвига', end=' ')\n",
    "print(f'True 0, trained {next_w0}')"
   ]
  },
  {
   "cell_type": "markdown",
   "metadata": {},
   "source": [
    "Многомерная линейная регрессия (scikit-learn)"
   ]
  },
  {
   "cell_type": "code",
   "execution_count": 31,
   "metadata": {},
   "outputs": [
    {
     "data": {
      "text/plain": [
       "array([[ 0.85866717, -1.26407368,  1.11487028,  0.43477699],\n",
       "       [ 1.29127473, -0.96420485,  0.07175977,  0.2716063 ],\n",
       "       [ 1.06755846, -1.06163445,  0.21734821,  0.1178195 ],\n",
       "       [ 0.07101978,  0.92157523, -0.37682984,  0.91998254],\n",
       "       [ 0.27540666,  0.18632534, -1.13980565,  0.14180489],\n",
       "       [ 0.29634711,  1.40277112, -1.54686257,  1.29561858],\n",
       "       [-1.68728061, -1.69734212, -0.41145394, -0.04527514],\n",
       "       [ 0.5936862 ,  0.37050633,  1.34537807,  1.01594215],\n",
       "       [-0.86335252, -0.13054147, -0.52308763, -0.25127692],\n",
       "       [ 0.65402488,  1.79948007,  1.5466061 ,  1.60987398],\n",
       "       [ 1.0956297 , -0.30957664,  0.72575222,  1.54907163],\n",
       "       [-0.39117313,  1.53422235, -0.16419295,  0.36036665],\n",
       "       [ 0.68731235, -1.82300958,  0.8791138 ,  1.84636487],\n",
       "       [-1.0616544 , -0.68448467, -0.47621448,  0.83031043],\n",
       "       [-1.1288944 ,  0.01699688, -0.42442882, -0.1329099 ],\n",
       "       [ 0.51002802,  0.33871394, -1.17212003, -1.04596765],\n",
       "       [ 1.08771086,  0.53382172,  0.39521201,  0.12286753],\n",
       "       [-1.55107946,  0.94303598,  0.34115344,  0.13827322],\n",
       "       [-1.57749431,  1.31094364, -0.79286501, -0.07174941],\n",
       "       [-1.53214252,  0.21886858,  0.18566325,  1.83277654],\n",
       "       [ 1.20910164, -0.8430661 , -0.14189358,  0.38535414],\n",
       "       [ 1.65920462,  0.37864068, -0.46456606,  0.15384125],\n",
       "       [-1.44071935,  1.47651282, -0.13155348,  0.1944292 ],\n",
       "       [-0.00828463, -0.31963136, -0.53662936,  0.31540267],\n",
       "       [-0.37842255, -0.48897544, -0.64439382,  0.69914084],\n",
       "       [-0.23725045, -1.23234621, -0.17241977,  0.09183837],\n",
       "       [-0.18577532, -0.38053642,  0.08897764,  0.06367166],\n",
       "       [ 1.4924715 , -1.11523722, -0.70541403, -0.04723257],\n",
       "       [ 0.51655239, -0.08940364,  0.68212971,  0.15072201],\n",
       "       [ 1.74945474, -0.286073  , -0.48456513, -2.65331856],\n",
       "       [ 2.15667443, -0.82943725, -0.52937203,  1.56170369],\n",
       "       [-1.08019383, -0.43205762,  0.51608404,  0.45539286],\n",
       "       [-0.17809318, -0.57395456, -0.20437532, -0.4864951 ],\n",
       "       [-0.53085824, -0.86986194, -1.15526422,  0.79667185],\n",
       "       [ 0.76616062, -0.99402769, -0.26434233,  1.54220922],\n",
       "       [ 0.85615205, -0.04480262, -0.47748923, -0.15406552],\n",
       "       [ 0.68968231,  0.56119218, -1.30554851, -1.11947526],\n",
       "       [ 0.87427277,  0.0716521 , -1.63905163, -0.64730263],\n",
       "       [-1.29742262, -0.71496244,  0.51447963,  0.25771638],\n",
       "       [-1.68411089, -1.18575527,  0.60010201,  0.69556726],\n",
       "       [ 0.63007982,  0.07349324,  0.73227135, -0.64257539],\n",
       "       [-0.10514925, -1.58396258, -1.37177369, -0.02831834],\n",
       "       [-2.04905726,  0.86705521, -0.26196107,  0.57897111],\n",
       "       [ 0.42105072, -1.06560298, -0.88623967, -0.47573349],\n",
       "       [-0.49673048,  0.50502192,  0.93878313, -0.67502027],\n",
       "       [-0.06766856, -0.41320975,  0.1200828 , -0.69897169],\n",
       "       [ 0.73683739,  1.57463407, -0.03107509, -0.68344663],\n",
       "       [ 0.59527845, -0.68280162, -0.71355993, -1.90828954],\n",
       "       [ 0.81776957,  0.03679475, -0.04870254,  1.7915311 ],\n",
       "       [ 2.20185631, -0.0370669 ,  1.93290543, -1.99357153]])"
      ]
     },
     "metadata": {},
     "output_type": "display_data"
    },
    {
     "data": {
      "text/plain": [
       "array([  43.59907368,   33.3226129 ,   12.92842886,   56.76209111,\n",
       "        -28.24075472,   64.36182392, -220.93063391,  134.81614163,\n",
       "       -111.85450024,  244.9327123 ,  106.23869476,   83.15972598,\n",
       "         22.1607008 ,  -87.67552386,  -94.67026039,  -29.62752165,\n",
       "        119.90179833,  -16.36526242,  -71.2734975 ,  -33.77825083,\n",
       "         24.31113443,  102.14682115,    1.12585934,  -48.81175726,\n",
       "        -58.59186113, -111.47215424,  -12.5784088 ,  -14.21337533,\n",
       "         64.61172215,   10.81251385,   99.11401244,  -75.98950916,\n",
       "        -52.77978396, -112.95415032,    7.45744433,   33.69756994,\n",
       "        -24.66640928,  -35.64805852,  -76.68888106, -129.08694753,\n",
       "         59.65011241, -158.52958483,  -61.09970272,  -97.83194751,\n",
       "         36.42924987,  -49.96145024,  104.10943674,  -80.90767725,\n",
       "         99.76081282,  152.70106779])"
      ]
     },
     "metadata": {},
     "output_type": "display_data"
    }
   ],
   "source": [
    "from sklearn.datasets import make_regression\n",
    "\n",
    "X, y = make_regression(n_samples=50, n_features=4, n_informative=4,\n",
    "                       noise=10, random_state=11)\n",
    "\n",
    "display(X, y)"
   ]
  },
  {
   "cell_type": "code",
   "execution_count": 32,
   "metadata": {},
   "outputs": [
    {
     "data": {
      "text/html": [
       "<style>#sk-container-id-3 {color: black;}#sk-container-id-3 pre{padding: 0;}#sk-container-id-3 div.sk-toggleable {background-color: white;}#sk-container-id-3 label.sk-toggleable__label {cursor: pointer;display: block;width: 100%;margin-bottom: 0;padding: 0.3em;box-sizing: border-box;text-align: center;}#sk-container-id-3 label.sk-toggleable__label-arrow:before {content: \"▸\";float: left;margin-right: 0.25em;color: #696969;}#sk-container-id-3 label.sk-toggleable__label-arrow:hover:before {color: black;}#sk-container-id-3 div.sk-estimator:hover label.sk-toggleable__label-arrow:before {color: black;}#sk-container-id-3 div.sk-toggleable__content {max-height: 0;max-width: 0;overflow: hidden;text-align: left;background-color: #f0f8ff;}#sk-container-id-3 div.sk-toggleable__content pre {margin: 0.2em;color: black;border-radius: 0.25em;background-color: #f0f8ff;}#sk-container-id-3 input.sk-toggleable__control:checked~div.sk-toggleable__content {max-height: 200px;max-width: 100%;overflow: auto;}#sk-container-id-3 input.sk-toggleable__control:checked~label.sk-toggleable__label-arrow:before {content: \"▾\";}#sk-container-id-3 div.sk-estimator input.sk-toggleable__control:checked~label.sk-toggleable__label {background-color: #d4ebff;}#sk-container-id-3 div.sk-label input.sk-toggleable__control:checked~label.sk-toggleable__label {background-color: #d4ebff;}#sk-container-id-3 input.sk-hidden--visually {border: 0;clip: rect(1px 1px 1px 1px);clip: rect(1px, 1px, 1px, 1px);height: 1px;margin: -1px;overflow: hidden;padding: 0;position: absolute;width: 1px;}#sk-container-id-3 div.sk-estimator {font-family: monospace;background-color: #f0f8ff;border: 1px dotted black;border-radius: 0.25em;box-sizing: border-box;margin-bottom: 0.5em;}#sk-container-id-3 div.sk-estimator:hover {background-color: #d4ebff;}#sk-container-id-3 div.sk-parallel-item::after {content: \"\";width: 100%;border-bottom: 1px solid gray;flex-grow: 1;}#sk-container-id-3 div.sk-label:hover label.sk-toggleable__label {background-color: #d4ebff;}#sk-container-id-3 div.sk-serial::before {content: \"\";position: absolute;border-left: 1px solid gray;box-sizing: border-box;top: 0;bottom: 0;left: 50%;z-index: 0;}#sk-container-id-3 div.sk-serial {display: flex;flex-direction: column;align-items: center;background-color: white;padding-right: 0.2em;padding-left: 0.2em;position: relative;}#sk-container-id-3 div.sk-item {position: relative;z-index: 1;}#sk-container-id-3 div.sk-parallel {display: flex;align-items: stretch;justify-content: center;background-color: white;position: relative;}#sk-container-id-3 div.sk-item::before, #sk-container-id-3 div.sk-parallel-item::before {content: \"\";position: absolute;border-left: 1px solid gray;box-sizing: border-box;top: 0;bottom: 0;left: 50%;z-index: -1;}#sk-container-id-3 div.sk-parallel-item {display: flex;flex-direction: column;z-index: 1;position: relative;background-color: white;}#sk-container-id-3 div.sk-parallel-item:first-child::after {align-self: flex-end;width: 50%;}#sk-container-id-3 div.sk-parallel-item:last-child::after {align-self: flex-start;width: 50%;}#sk-container-id-3 div.sk-parallel-item:only-child::after {width: 0;}#sk-container-id-3 div.sk-dashed-wrapped {border: 1px dashed gray;margin: 0 0.4em 0.5em 0.4em;box-sizing: border-box;padding-bottom: 0.4em;background-color: white;}#sk-container-id-3 div.sk-label label {font-family: monospace;font-weight: bold;display: inline-block;line-height: 1.2em;}#sk-container-id-3 div.sk-label-container {text-align: center;}#sk-container-id-3 div.sk-container {/* jupyter's `normalize.less` sets `[hidden] { display: none; }` but bootstrap.min.css set `[hidden] { display: none !important; }` so we also need the `!important` here to be able to override the default hidden behavior on the sphinx rendered scikit-learn.org. See: https://github.com/scikit-learn/scikit-learn/issues/21755 */display: inline-block !important;position: relative;}#sk-container-id-3 div.sk-text-repr-fallback {display: none;}</style><div id=\"sk-container-id-3\" class=\"sk-top-container\"><div class=\"sk-text-repr-fallback\"><pre>LinearRegression()</pre><b>In a Jupyter environment, please rerun this cell to show the HTML representation or trust the notebook. <br />On GitHub, the HTML representation is unable to render, please try loading this page with nbviewer.org.</b></div><div class=\"sk-container\" hidden><div class=\"sk-item\"><div class=\"sk-estimator sk-toggleable\"><input class=\"sk-toggleable__control sk-hidden--visually\" id=\"sk-estimator-id-3\" type=\"checkbox\" checked><label for=\"sk-estimator-id-3\" class=\"sk-toggleable__label sk-toggleable__label-arrow\">LinearRegression</label><div class=\"sk-toggleable__content\"><pre>LinearRegression()</pre></div></div></div></div></div>"
      ],
      "text/plain": [
       "LinearRegression()"
      ]
     },
     "execution_count": 32,
     "metadata": {},
     "output_type": "execute_result"
    }
   ],
   "source": [
    "model = LinearRegression()\n",
    "model.fit(X, y)"
   ]
  },
  {
   "cell_type": "code",
   "execution_count": 33,
   "metadata": {},
   "outputs": [
    {
     "data": {
      "text/plain": [
       "(array([59.51225616, 57.72556421, 44.70715115, 24.87193091]),\n",
       " -1.6392969526147212)"
      ]
     },
     "execution_count": 33,
     "metadata": {},
     "output_type": "execute_result"
    }
   ],
   "source": [
    "model.coef_, model.intercept_"
   ]
  },
  {
   "cell_type": "code",
   "execution_count": 34,
   "metadata": {},
   "outputs": [
    {
     "data": {
      "text/plain": [
       "array([37.14897504])"
      ]
     },
     "execution_count": 34,
     "metadata": {},
     "output_type": "execute_result"
    }
   ],
   "source": [
    "model.predict(X[:1])"
   ]
  },
  {
   "cell_type": "code",
   "execution_count": 37,
   "metadata": {},
   "outputs": [
    {
     "data": {
      "text/html": [
       "<div>\n",
       "<style scoped>\n",
       "    .dataframe tbody tr th:only-of-type {\n",
       "        vertical-align: middle;\n",
       "    }\n",
       "\n",
       "    .dataframe tbody tr th {\n",
       "        vertical-align: top;\n",
       "    }\n",
       "\n",
       "    .dataframe thead th {\n",
       "        text-align: right;\n",
       "    }\n",
       "</style>\n",
       "<table border=\"1\" class=\"dataframe\">\n",
       "  <thead>\n",
       "    <tr style=\"text-align: right;\">\n",
       "      <th></th>\n",
       "      <th>0</th>\n",
       "      <th>1</th>\n",
       "      <th>2</th>\n",
       "      <th>3</th>\n",
       "      <th>y</th>\n",
       "      <th>pred_fit</th>\n",
       "    </tr>\n",
       "  </thead>\n",
       "  <tbody>\n",
       "    <tr>\n",
       "      <th>0</th>\n",
       "      <td>0.858667</td>\n",
       "      <td>-1.264074</td>\n",
       "      <td>1.114870</td>\n",
       "      <td>0.434777</td>\n",
       "      <td>43.599074</td>\n",
       "      <td>37.148975</td>\n",
       "    </tr>\n",
       "    <tr>\n",
       "      <th>1</th>\n",
       "      <td>1.291275</td>\n",
       "      <td>-0.964205</td>\n",
       "      <td>0.071760</td>\n",
       "      <td>0.271606</td>\n",
       "      <td>33.322613</td>\n",
       "      <td>29.511654</td>\n",
       "    </tr>\n",
       "    <tr>\n",
       "      <th>2</th>\n",
       "      <td>1.067558</td>\n",
       "      <td>-1.061634</td>\n",
       "      <td>0.217348</td>\n",
       "      <td>0.117820</td>\n",
       "      <td>12.928429</td>\n",
       "      <td>13.257486</td>\n",
       "    </tr>\n",
       "    <tr>\n",
       "      <th>3</th>\n",
       "      <td>0.071020</td>\n",
       "      <td>0.921575</td>\n",
       "      <td>-0.376830</td>\n",
       "      <td>0.919983</td>\n",
       "      <td>56.762091</td>\n",
       "      <td>61.820454</td>\n",
       "    </tr>\n",
       "    <tr>\n",
       "      <th>4</th>\n",
       "      <td>0.275407</td>\n",
       "      <td>0.186325</td>\n",
       "      <td>-1.139806</td>\n",
       "      <td>0.141805</td>\n",
       "      <td>-28.240755</td>\n",
       "      <td>-21.923992</td>\n",
       "    </tr>\n",
       "  </tbody>\n",
       "</table>\n",
       "</div>"
      ],
      "text/plain": [
       "          0         1         2         3          y   pred_fit\n",
       "0  0.858667 -1.264074  1.114870  0.434777  43.599074  37.148975\n",
       "1  1.291275 -0.964205  0.071760  0.271606  33.322613  29.511654\n",
       "2  1.067558 -1.061634  0.217348  0.117820  12.928429  13.257486\n",
       "3  0.071020  0.921575 -0.376830  0.919983  56.762091  61.820454\n",
       "4  0.275407  0.186325 -1.139806  0.141805 -28.240755 -21.923992"
      ]
     },
     "execution_count": 37,
     "metadata": {},
     "output_type": "execute_result"
    }
   ],
   "source": [
    "import pandas as pd\n",
    "df = pd.DataFrame(X)\n",
    "df['y'] = y\n",
    "df['pred_fit'] = model.predict(X)\n",
    "df.head()"
   ]
  },
  {
   "cell_type": "code",
   "execution_count": 38,
   "metadata": {},
   "outputs": [
    {
     "data": {
      "text/plain": [
       "array([[ 0.85866717, -1.26407368,  1.11487028,  0.43477699],\n",
       "       [ 1.29127473, -0.96420485,  0.07175977,  0.2716063 ],\n",
       "       [ 1.06755846, -1.06163445,  0.21734821,  0.1178195 ],\n",
       "       [ 0.07101978,  0.92157523, -0.37682984,  0.91998254],\n",
       "       [ 0.27540666,  0.18632534, -1.13980565,  0.14180489],\n",
       "       [ 0.29634711,  1.40277112, -1.54686257,  1.29561858],\n",
       "       [-1.68728061, -1.69734212, -0.41145394, -0.04527514],\n",
       "       [ 0.5936862 ,  0.37050633,  1.34537807,  1.01594215],\n",
       "       [-0.86335252, -0.13054147, -0.52308763, -0.25127692],\n",
       "       [ 0.65402488,  1.79948007,  1.5466061 ,  1.60987398],\n",
       "       [ 1.0956297 , -0.30957664,  0.72575222,  1.54907163],\n",
       "       [-0.39117313,  1.53422235, -0.16419295,  0.36036665],\n",
       "       [ 0.68731235, -1.82300958,  0.8791138 ,  1.84636487],\n",
       "       [-1.0616544 , -0.68448467, -0.47621448,  0.83031043],\n",
       "       [-1.1288944 ,  0.01699688, -0.42442882, -0.1329099 ],\n",
       "       [ 0.51002802,  0.33871394, -1.17212003, -1.04596765],\n",
       "       [ 1.08771086,  0.53382172,  0.39521201,  0.12286753],\n",
       "       [-1.55107946,  0.94303598,  0.34115344,  0.13827322],\n",
       "       [-1.57749431,  1.31094364, -0.79286501, -0.07174941],\n",
       "       [-1.53214252,  0.21886858,  0.18566325,  1.83277654],\n",
       "       [ 1.20910164, -0.8430661 , -0.14189358,  0.38535414],\n",
       "       [ 1.65920462,  0.37864068, -0.46456606,  0.15384125],\n",
       "       [-1.44071935,  1.47651282, -0.13155348,  0.1944292 ],\n",
       "       [-0.00828463, -0.31963136, -0.53662936,  0.31540267],\n",
       "       [-0.37842255, -0.48897544, -0.64439382,  0.69914084],\n",
       "       [-0.23725045, -1.23234621, -0.17241977,  0.09183837],\n",
       "       [-0.18577532, -0.38053642,  0.08897764,  0.06367166],\n",
       "       [ 1.4924715 , -1.11523722, -0.70541403, -0.04723257],\n",
       "       [ 0.51655239, -0.08940364,  0.68212971,  0.15072201],\n",
       "       [ 1.74945474, -0.286073  , -0.48456513, -2.65331856],\n",
       "       [ 2.15667443, -0.82943725, -0.52937203,  1.56170369],\n",
       "       [-1.08019383, -0.43205762,  0.51608404,  0.45539286],\n",
       "       [-0.17809318, -0.57395456, -0.20437532, -0.4864951 ],\n",
       "       [-0.53085824, -0.86986194, -1.15526422,  0.79667185],\n",
       "       [ 0.76616062, -0.99402769, -0.26434233,  1.54220922],\n",
       "       [ 0.85615205, -0.04480262, -0.47748923, -0.15406552],\n",
       "       [ 0.68968231,  0.56119218, -1.30554851, -1.11947526],\n",
       "       [ 0.87427277,  0.0716521 , -1.63905163, -0.64730263],\n",
       "       [-1.29742262, -0.71496244,  0.51447963,  0.25771638],\n",
       "       [-1.68411089, -1.18575527,  0.60010201,  0.69556726],\n",
       "       [ 0.63007982,  0.07349324,  0.73227135, -0.64257539],\n",
       "       [-0.10514925, -1.58396258, -1.37177369, -0.02831834],\n",
       "       [-2.04905726,  0.86705521, -0.26196107,  0.57897111],\n",
       "       [ 0.42105072, -1.06560298, -0.88623967, -0.47573349],\n",
       "       [-0.49673048,  0.50502192,  0.93878313, -0.67502027],\n",
       "       [-0.06766856, -0.41320975,  0.1200828 , -0.69897169],\n",
       "       [ 0.73683739,  1.57463407, -0.03107509, -0.68344663],\n",
       "       [ 0.59527845, -0.68280162, -0.71355993, -1.90828954],\n",
       "       [ 0.81776957,  0.03679475, -0.04870254,  1.7915311 ],\n",
       "       [ 2.20185631, -0.0370669 ,  1.93290543, -1.99357153]])"
      ]
     },
     "metadata": {},
     "output_type": "display_data"
    },
    {
     "data": {
      "text/plain": [
       "array([  43.59907368,   33.3226129 ,   12.92842886,   56.76209111,\n",
       "        -28.24075472,   64.36182392, -220.93063391,  134.81614163,\n",
       "       -111.85450024,  244.9327123 ,  106.23869476,   83.15972598,\n",
       "         22.1607008 ,  -87.67552386,  -94.67026039,  -29.62752165,\n",
       "        119.90179833,  -16.36526242,  -71.2734975 ,  -33.77825083,\n",
       "         24.31113443,  102.14682115,    1.12585934,  -48.81175726,\n",
       "        -58.59186113, -111.47215424,  -12.5784088 ,  -14.21337533,\n",
       "         64.61172215,   10.81251385,   99.11401244,  -75.98950916,\n",
       "        -52.77978396, -112.95415032,    7.45744433,   33.69756994,\n",
       "        -24.66640928,  -35.64805852,  -76.68888106, -129.08694753,\n",
       "         59.65011241, -158.52958483,  -61.09970272,  -97.83194751,\n",
       "         36.42924987,  -49.96145024,  104.10943674,  -80.90767725,\n",
       "         99.76081282,  152.70106779])"
      ]
     },
     "metadata": {},
     "output_type": "display_data"
    }
   ],
   "source": [
    "X, y, coeffs = make_regression(n_samples=50, n_features=4, n_informative=4,\n",
    "                               noise=10, coef=True, random_state=11)\n",
    "\n",
    "display(X, y)"
   ]
  },
  {
   "cell_type": "code",
   "execution_count": null,
   "metadata": {},
   "outputs": [],
   "source": []
  }
 ],
 "metadata": {
  "kernelspec": {
   "display_name": "Python 3",
   "language": "python",
   "name": "python3"
  },
  "language_info": {
   "codemirror_mode": {
    "name": "ipython",
    "version": 3
   },
   "file_extension": ".py",
   "mimetype": "text/x-python",
   "name": "python",
   "nbconvert_exporter": "python",
   "pygments_lexer": "ipython3",
   "version": "3.11.4"
  },
  "orig_nbformat": 4
 },
 "nbformat": 4,
 "nbformat_minor": 2
}
